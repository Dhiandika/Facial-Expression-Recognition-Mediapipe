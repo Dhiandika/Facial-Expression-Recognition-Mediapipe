{
 "cells": [
  {
   "cell_type": "code",
   "execution_count": 15,
   "metadata": {},
   "outputs": [
    {
     "name": "stderr",
     "output_type": "stream",
     "text": [
      "c:\\Users\\kuzup\\AppData\\Local\\Programs\\Python\\Python311\\Lib\\site-packages\\google\\protobuf\\symbol_database.py:55: UserWarning: SymbolDatabase.GetPrototype() is deprecated. Please use message_factory.GetMessageClass() instead. SymbolDatabase.GetPrototype() will be removed soon.\n",
      "  warnings.warn('SymbolDatabase.GetPrototype() is deprecated. Please '\n"
     ]
    }
   ],
   "source": [
    "import tensorflow as tf\n",
    "from tensorflow.keras.preprocessing.image import ImageDataGenerator\n",
    "import numpy as np\n",
    "import cv2\n",
    "from utils import get_face_landmarks\n",
    "\n",
    "data_dir = 'faces/'  # Folder dataset\n",
    "\n",
    "# ImageDataGenerator untuk augmentasi\n",
    "datagen = ImageDataGenerator(\n",
    "    rotation_range=30,\n",
    "    width_shift_range=0.2,\n",
    "    height_shift_range=0.2,\n",
    "    shear_range=0.2,\n",
    "    zoom_range=0.2,\n",
    "    horizontal_flip=True,\n",
    "    fill_mode='nearest'\n",
    ")\n",
    "\n",
    "output = []\n",
    "for emotion_indx, emotion in enumerate(sorted(os.listdir(data_dir))):\n",
    "    emotion_folder = os.path.join(data_dir, emotion)\n",
    "    for image_path_ in os.listdir(emotion_folder):\n",
    "        image_path = os.path.join(emotion_folder, image_path_)\n",
    "        image = cv2.imread(image_path)\n",
    "\n",
    "        face_landmarks = get_face_landmarks(image)\n",
    "        \n",
    "        if len(face_landmarks) == 1404:\n",
    "            face_landmarks.append(int(emotion_indx))\n",
    "            output.append(face_landmarks)\n",
    "\n",
    "            # Augmentasi data (untuk dataset yang lebih sedikit)\n",
    "            image = np.expand_dims(image, 0)\n",
    "            i = 0\n",
    "            for batch in datagen.flow(image, batch_size=1):\n",
    "                aug_image = batch[0].astype('uint8')\n",
    "                aug_face_landmarks = get_face_landmarks(aug_image)\n",
    "                if len(aug_face_landmarks) == 1404:\n",
    "                    aug_face_landmarks.append(int(emotion_indx))\n",
    "                    output.append(aug_face_landmarks)\n",
    "                i += 1\n",
    "                if i >= 10:  # Membatasi augmentasi menjadi 10 gambar per gambar asli\n",
    "                    break\n",
    "\n",
    "np.savetxt('data_augmented.txt', np.asarray(output))\n"
   ]
  },
  {
   "cell_type": "code",
   "execution_count": 16,
   "metadata": {},
   "outputs": [
    {
     "name": "stdout",
     "output_type": "stream",
     "text": [
      "Accuracy: 73.03%\n",
      "[[128  52  21   3  22]\n",
      " [ 45 225  41   5   7]\n",
      " [ 27  81 120   6   4]\n",
      " [  6  10  10 327   6]\n",
      " [ 10  16   5  10 248]]\n"
     ]
    }
   ],
   "source": [
    "from sklearn.ensemble import RandomForestClassifier\n",
    "import pickle\n",
    "import numpy as np\n",
    "from sklearn.model_selection import train_test_split\n",
    "from sklearn.metrics import accuracy_score, confusion_matrix\n",
    "\n",
    "# Load augmented data from text file\n",
    "data_file = \"data_augmented.txt\"\n",
    "data = np.loadtxt(data_file)\n",
    "\n",
    "# Split data into features (X) and labels (y)\n",
    "X = data[:, :-1]\n",
    "y = data[:, -1]\n",
    "\n",
    "# Split the data into training and testing sets\n",
    "X_train, X_test, y_train, y_test = train_test_split(X, y, test_size=0.2, random_state=42, shuffle=True, stratify=y)\n",
    "\n",
    "# Initialize Random Forest Classifier with class_weight\n",
    "rf_classifier = RandomForestClassifier(n_estimators=200, max_depth=30, class_weight='balanced')\n",
    "\n",
    "# Train the classifier\n",
    "rf_classifier.fit(X_train, y_train)\n",
    "\n",
    "# Make predictions on the test data\n",
    "y_pred = rf_classifier.predict(X_test)\n",
    "\n",
    "# Evaluate the accuracy of the model\n",
    "accuracy = accuracy_score(y_test, y_pred)\n",
    "print(f\"Accuracy: {accuracy * 100:.2f}%\")\n",
    "print(confusion_matrix(y_test, y_pred))\n",
    "\n",
    "# Save the model to a file\n",
    "with open('model/model_file_augmented.pkl', 'wb') as f:\n",
    "    pickle.dump(rf_classifier, f)\n"
   ]
  },
  {
   "cell_type": "code",
   "execution_count": null,
   "metadata": {},
   "outputs": [],
   "source": []
  }
 ],
 "metadata": {
  "kernelspec": {
   "display_name": "Python 3",
   "language": "python",
   "name": "python3"
  },
  "language_info": {
   "codemirror_mode": {
    "name": "ipython",
    "version": 3
   },
   "file_extension": ".py",
   "mimetype": "text/x-python",
   "name": "python",
   "nbconvert_exporter": "python",
   "pygments_lexer": "ipython3",
   "version": "3.11.4"
  }
 },
 "nbformat": 4,
 "nbformat_minor": 2
}
